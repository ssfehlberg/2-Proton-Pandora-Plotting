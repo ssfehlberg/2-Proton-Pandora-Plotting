{
 "cells": [
  {
   "cell_type": "code",
   "execution_count": 16,
   "metadata": {},
   "outputs": [],
   "source": [
    "import numpy as np\n",
    "import matplotlib.pyplot as plt\n",
    "import os\n",
    "# from IPython.core.display import display, HTML\n",
    "# display(HTML(\"<style>.container { width:100% !important; }</style>\"))\n",
    "import ROOT"
   ]
  },
  {
   "cell_type": "code",
   "execution_count": 2,
   "metadata": {},
   "outputs": [],
   "source": [
    "# This is just a function to quickly save the output of a ROOT Histogram.\n",
    "directory=\"XSEC_Tutorial_Outputs_Data/\"\n",
    "if not os.path.exists(directory):\n",
    "    os.makedirs(directory)\n",
    "def SAVEHIST(hist,filename,error=False):\n",
    "    canv = ROOT.TCanvas('Can','Can',1000,642)\n",
    "    if error:\n",
    "        hist.Draw('HIST E')\n",
    "    else:\n",
    "        hist.Draw('HIST')\n",
    "    canv.SaveAs(directory+filename+'.png')"
   ]
  },
  {
   "cell_type": "code",
   "execution_count": 34,
   "metadata": {},
   "outputs": [
    {
     "name": "stdout",
     "output_type": "stream",
     "text": [
      "Value of Volume: 5.118830E+07 cm^3\n",
      "Value of N_targets assuming 10cm FV border: 1.067769E+30 N Targets\n",
      "Value of the Flux: 5.008460E+11 \\nu cm^{-2}\n"
     ]
    }
   ],
   "source": [
    "#We're going to calculate our Number of Targest and Neutrino Flux First\n",
    "######################################################################\n",
    "rho_Ar = 1.3836; #density of argon in g*cm^-3                                                                      \n",
    "V = (256.35 - 20.0) * (233.0 - 20.0) * (1036.8 - 20.0);#volume of detector cm: x*y*z                               \n",
    "N_A = 6.023e+23; #avogadro's number                                                                                \n",
    "m_mol = 39.95; #mass of argon in g*mol^-1                                                                          \n",
    "N_targets = (rho_Ar*V*N_A)/m_mol; #number of target nuclei                                                         \n",
    "print(\"Value of Volume: %E cm^3\"%V)\n",
    "print(\"Value of N_targets assuming 10cm FV border: %E N Targets\"%N_targets)\n",
    "\n",
    "\"\"\"\n",
    "Input Neutrino Flux File contains:\n",
    "  -The original histogram: hEnumu_cv\n",
    "  -Histogram with the scaling factor applied: h_scaled\n",
    "  -Histogram with scaling and gaus fit: h_scaled_w_fit\n",
    "We need the h_scaled for purpose of xsec extraction\n",
    "\"\"\"\n",
    "in_flux = ROOT.TFile(\"root_files/pelee/Run_all/neutrino_flux.root\")\n",
    "Flux_h = in_flux.Get('h_scaled')\n",
    "integral = Flux_h.Integral()\n",
    "flux = 6.79E20 * integral\n",
    "print(r'Value of the Flux: %E \\nu cm^{-2}'%flux)"
   ]
  },
  {
   "cell_type": "code",
   "execution_count": 33,
   "metadata": {},
   "outputs": [],
   "source": [
    "#Here is where we grab the Efficiency Histograms and Smearing Matrices\n",
    "#######################################################################\n",
    "f_matrices = ROOT.TFile(\"root_files/pelee/Run_all/xsec_extraction.root\")\n",
    "\n",
    "var = [\"_mom\",\"_costheta\",\"_phi\"]\n",
    "particles = [\"_muon_all\",\"_muon_contained\",\"_muon_uncontainied\",\"_lead_proton\",\"_recoil\\\n",
    "_proton\"]\n",
    "other_var = [\"_opening_angle_protons_lab\",\"_opening_angle_protons_com\",\"_opening_angle_mu_leadi\\\n",
    "ng\",\"_opening_angle_mu_both\",\"_delta_PT\",\"_delta_alphaT\",\"_delta_phiT\",\"_nu_E\"]\n",
    "\n",
    "h_particles_eff = [] #list of eff for the particles\n",
    "h_particles_matrices = [] #list of matrices for the particles\n",
    "h_other_eff = [] #list of eff for the other variables\n",
    "h_other_matrices = [] #list of matrices for the other variables\n",
    "\n",
    "for i in range(0,len(particles)):\n",
    "    for j in range(0,len(var)):\n",
    "        h_particles_eff.append(f_matrices.Get(\"h_particle_num%s%s\"%(particles[i],var[j])))\n",
    "        h_particles_matrices.append(f_matrices.Get(\"h_particle_matrices%s%s_smearing\"%(particles[i],var[j])))\n",
    "\n",
    "for i in range(0,len(other_var)): \n",
    "    h_other_eff.append(f_matrices.Get(\"h_other_eff_num%s\"%other_var[i]))\n",
    "    h_other_matrices.append(f_matrices.Get(\"h_other_matrices%s_smearing\"%other_var[i]))"
   ]
  },
  {
   "cell_type": "code",
   "execution_count": 38,
   "metadata": {},
   "outputs": [],
   "source": [
    "#Now we are going to grab all the histograms that will consistute the numerator of our XSec:\n",
    "##########################################################################################\n",
    "\n",
    "#BNB Histograms\n",
    "f_bnb = ROOT.TFile(\"root_files/pelee/Run_all/histograms_pelee_bnb.root\")\n",
    "h_bnb_particles = []\n",
    "h_bnb_other = []\n",
    "\n",
    "#EXT Histograms\n",
    "f_ext = ROOT.TFile(\"root_files/pelee/Run_all/histograms_pelee_ext.root\")\n",
    "h_ext_particles = []\n",
    "h_ext_other = []\n",
    "\n",
    "#Dirt Histograms\n",
    "f_dirt = ROOT.TFile(\"root_files/pelee/Run_all/histograms_pelee_dirt_wgt.root\")\n",
    "h_dirt_particles = []\n",
    "h_dirt_other = []\n",
    " \n",
    "#Overlay Histograms\n",
    "f_overlay = ROOT.TFile(\"root_files/pelee/Run_all/histograms_pelee_overlay_wgt.root\")\n",
    "channel = [\"_total\", \"_cc2p0pi\",\"_ccNp1pi\",\"_ccNp0pi\",\"_cc1p0pi\",\"_nc\",\"_ccNpNpi\",\n",
    "            \"_cc0p0pi\",\"_other\",\"_outfv\",\"_ccnue\"]\n",
    "channel_raquel = [\"_total\", \"_ccMEC\", \"_ccRES\",\"_ccQE\",\"_nc\",\n",
    "                   \"_ccDIS\",\"_ccCOH\",\"_outfv\",\"_other\",\"_ccNue\"]\n",
    "h_overlay_particles_mine = [] #list of overlay histograms with my definitions: particles\n",
    "h_overlay_other_mine = [] #list of overlay histograms with my definitions: other\n",
    "h_overlay_particles_raquel = [] #list of overlay histograms with Raquel's: particles\n",
    "h_overlay_other_raquel = [] #list of overlay histograms with Raquel's: other\n",
    "\n",
    "\n",
    "#Now to Grab the histograms\n",
    "for i in range(0,len(particles)):\n",
    "    for j in range(0,len(var)):\n",
    "        h_bnb_particles.append(f_bnb.Get(\"h%s%s_bnb\"%(particles[i],var[j])))\n",
    "        h_ext_particles.append(f_ext.Get(\"h%s%s_ext\"%(particles[i],var[j])))\n",
    "        h_dirt_particles.append(f_dirt.Get(\"h%s%s_ext\"%(particles[i],var[j])))\n",
    "        \n",
    "        for k in range(0,len(channels)):\n",
    "            h_overlay_particles_mine.append(f_overlay.Get(\"h%s%s%s\"%(particles[i],var[j],channel[k])))\n",
    "        for k in range (0, len(channels_raquel)):\n",
    "            h_overlay_particles_raquel.append(f_overlay.Get(\"h%s%s%s\"%(particles[i],var[j],channel[k])))\n",
    "            \n",
    "for i in range(0,len(other_var)): \n",
    "    h_bnb_other.append(f_bnb.Get(\"h_%s_bnb\"%other_var[i]))\n",
    "    h_ext_other.append(f_ext.Get(\"h_%s_bnb\"%other_var[i]))\n",
    "    h_dirt_other.append(f_dirt.Get(\"h_%s_bnb\"%other_var[i]))\n",
    "\n",
    "    for k in range(0,len(channels)):\n",
    "        h_overlay_other_mine.append(f_overlay.Get(\"h_%s%s\"%(other_var[i],channel[k])))\n",
    "    for k in range (0, len(channels_raquel)):\n",
    "        h_overlay_other_raquel.append(f_overlay.Get(\"h_%s%s\"%(other_var[i],channel[k])))"
   ]
  },
  {
   "cell_type": "code",
   "execution_count": 3,
   "metadata": {},
   "outputs": [],
   "source": [
    "# Alright, let's extract a cross section. \n",
    "# Latex Format for XSEC Formula:\n",
    "#    \\sigma_i = 22 \\frac{\\sum_{j} U(N_j-b_j)}{\\epsilon_i\\Phi_i N_t}\n",
    "# \n",
    "#  Or, more explicitly:\n",
    "#\n",
    "# \n",
    "# The CrossSection in Energy Bin i is calculated by:\n",
    "# 1) Taking the Data Events selected in reco energy bin j\n",
    "# 2) Subtracting away the background events in reco energy bin j.\n",
    "# 3) Take the remaining events, and 'unfold' (U) them in order\n",
    "# to undo the true->reco energy smearing, while summing up contributions\n",
    "# from all reco energy bins j. This is entirely handled by RooUnfold\n",
    "# 4) Next divide by the efficiency of selecting the signal event in \n",
    "# true energy bin i to get the number of signal events that occurred, \n",
    "# not just the ones we found.\n",
    "# 5) Divide by the (NuMu Flux)*(POT)*(Neutrons in Target) to get \n",
    "# Cross Section Per Neutron\n",
    "# 6) Multiply by 22 neutrons/argon to get Cross Section per Argon Nucleus\n",
    "# 7) Celebrate!!!"
   ]
  },
  {
   "cell_type": "code",
   "execution_count": null,
   "metadata": {},
   "outputs": [],
   "source": [
    "\"\"\"\n",
    "Steps 1 and 2: Subtract the Expected Background from the Data.\n",
    "\"\"\"\n",
    "\n",
    "#overlay background\n",
    "h_overlay = h_overlay_other_mine[0].Clone(\"h_overlay%s\",other_var[0])\n",
    "h_overlay.Add(h_overlay_other_cc2p, -1)\n",
    "\n",
    "#dirt background\n",
    "h_dirt = h_dirt_other.Clone(\"h_dirt%s\",other_var[0])\n",
    "\n",
    "#total background\n",
    "h_background = h_ext_other.Clone(\"h_ext%s\",other_var[0])\n",
    "h_background.Add(h_overlay)\n",
    "h_background.Add(h_dirt)\n",
    "\n",
    "\n",
    "h_bnb = h_bnb_other[0].Clone(\"h_bnb%s\",other_var[0])\n",
    "h_bnb.GetXaxis().SetTitle()\n",
    "h_bnb.GetYaxis().SetTitle()\n"
   ]
  },
  {
   "cell_type": "code",
   "execution_count": 4,
   "metadata": {},
   "outputs": [
    {
     "ename": "NameError",
     "evalue": "name 'Data_h' is not defined",
     "output_type": "error",
     "traceback": [
      "\u001b[0;31m---------------------------------------------------------------------------\u001b[0m",
      "\u001b[0;31mNameError\u001b[0m                                 Traceback (most recent call last)",
      "\u001b[0;32m<ipython-input-4-6c9824f41f25>\u001b[0m in \u001b[0;36m<module>\u001b[0;34m\u001b[0m\n\u001b[1;32m      8\u001b[0m \u001b[0mData_Minus_Background_h\u001b[0m\u001b[0;34m.\u001b[0m\u001b[0mSetYTitle\u001b[0m\u001b[0;34m(\u001b[0m\u001b[0;34m\"Selected Data Minus Background Events in 2.43e20\"\u001b[0m\u001b[0;34m)\u001b[0m\u001b[0;34m\u001b[0m\u001b[0;34m\u001b[0m\u001b[0m\n\u001b[1;32m      9\u001b[0m \u001b[0;32mfor\u001b[0m \u001b[0mbinx\u001b[0m \u001b[0;32min\u001b[0m \u001b[0mrange\u001b[0m\u001b[0;34m(\u001b[0m\u001b[0mData_Minus_Background_h\u001b[0m\u001b[0;34m.\u001b[0m\u001b[0mGetNbinsX\u001b[0m\u001b[0;34m(\u001b[0m\u001b[0;34m)\u001b[0m\u001b[0;34m)\u001b[0m\u001b[0;34m:\u001b[0m\u001b[0;34m\u001b[0m\u001b[0;34m\u001b[0m\u001b[0m\n\u001b[0;32m---> 10\u001b[0;31m     \u001b[0md\u001b[0m \u001b[0;34m=\u001b[0m \u001b[0mData_h\u001b[0m\u001b[0;34m.\u001b[0m\u001b[0mGetBinContent\u001b[0m\u001b[0;34m(\u001b[0m\u001b[0mbinx\u001b[0m\u001b[0;34m+\u001b[0m\u001b[0;36m1\u001b[0m\u001b[0;34m)\u001b[0m\u001b[0;34m\u001b[0m\u001b[0;34m\u001b[0m\u001b[0m\n\u001b[0m\u001b[1;32m     11\u001b[0m     \u001b[0mb\u001b[0m \u001b[0;34m=\u001b[0m \u001b[0mBackground_h\u001b[0m\u001b[0;34m.\u001b[0m\u001b[0mGetBinContent\u001b[0m\u001b[0;34m(\u001b[0m\u001b[0mbinx\u001b[0m\u001b[0;34m+\u001b[0m\u001b[0;36m1\u001b[0m\u001b[0;34m)\u001b[0m\u001b[0;34m\u001b[0m\u001b[0;34m\u001b[0m\u001b[0m\n\u001b[1;32m     12\u001b[0m     \u001b[0mData_Minus_Background_h\u001b[0m\u001b[0;34m.\u001b[0m\u001b[0mSetBinContent\u001b[0m\u001b[0;34m(\u001b[0m\u001b[0mbinx\u001b[0m\u001b[0;34m+\u001b[0m\u001b[0;36m1\u001b[0m\u001b[0;34m,\u001b[0m\u001b[0md\u001b[0m\u001b[0;34m-\u001b[0m\u001b[0mb\u001b[0m\u001b[0;34m)\u001b[0m\u001b[0;34m\u001b[0m\u001b[0;34m\u001b[0m\u001b[0m\n",
      "\u001b[0;31mNameError\u001b[0m: name 'Data_h' is not defined"
     ]
    }
   ],
   "source": [
    "\"\"\"\n",
    "Steps 1 and 2: Subtract the Expected Background from the Data.\n",
    "This is done after the number of events has been scaled \n",
    "using tune weights and POT balancing\n",
    "\"\"\"\n",
    "Data_Minus_Background_h = ROOT.TH1D(\"Data_Minus_Background_h\",\"Data_Minus_Background_h\",15,0,1500)\n",
    "Data_Minus_Background_h.SetXTitle(\"Reco Neutrino Energy\")\n",
    "Data_Minus_Background_h.SetYTitle(\"Selected Data Minus Background Events in 2.43e20\")\n",
    "for binx in range(Data_Minus_Background_h.GetNbinsX()):\n",
    "    d = Data_h.GetBinContent(binx+1)\n",
    "    b = Background_h.GetBinContent(binx+1)\n",
    "    Data_Minus_Background_h.SetBinContent(binx+1,d-b)"
   ]
  },
  {
   "cell_type": "code",
   "execution_count": null,
   "metadata": {},
   "outputs": [],
   "source": []
  }
 ],
 "metadata": {
  "kernelspec": {
   "display_name": "Python 3",
   "language": "python",
   "name": "python3"
  },
  "language_info": {
   "codemirror_mode": {
    "name": "ipython",
    "version": 3
   },
   "file_extension": ".py",
   "mimetype": "text/x-python",
   "name": "python",
   "nbconvert_exporter": "python",
   "pygments_lexer": "ipython3",
   "version": "3.7.4"
  }
 },
 "nbformat": 4,
 "nbformat_minor": 2
}
